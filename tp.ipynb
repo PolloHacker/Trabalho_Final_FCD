{
 "cells": [
  {
   "cell_type": "markdown",
   "id": "37437fbf",
   "metadata": {},
   "source": [
    "# Análise dos Acidentes de Trânsito de Belo Horizonte\n",
    "\n",
    "#### Autores\n",
    "- Felipe\n",
    "- Isaac Reyes"
   ]
  },
  {
   "cell_type": "markdown",
   "id": "27e75648",
   "metadata": {},
   "source": [
    "## Sumário\n",
    "\n",
    "- Preparando os dados\n",
    "  - [Base de dados](#base-de-dados)\n",
    "  - [Colando um índice de datas](#colando-um-índice-de-datas)\n",
    "  - [Removendo as colunas que não precisamos](#removendo-as-colunas-que-não-precisamos)\n",
    "- Questões\n",
    "  - [2. Faça um gráfico de linhas por ano mês indicando o número de acidentes naquele ano mês](#2-faça-um-gráfico-de-linhas-por-ano-mês-indicando-o-número-de-acidentes-naquele-ano-mês)\n",
    "  - [3. Repita o gráfico acima por ano apenas](#3-repita-o-gráfico-acima-por-ano-apenas)\n",
    "  - [4. Faça um gráfico de barras por ano indicandos os tipos de acidentes mais comuns no ano](#4-faça-um-gráfico-de-barras-por-ano-indicandos-os-tipos-de-acidentes-mais-comuns-no-ano)\n",
    "  - [5. Repita o gráfico acima considerando gráficos fatais e não fatais](#5-repita-o-gráfico-acima-considerando-gráficos-fatais-e-não-fatais)\n",
    "  - [6. Faça a mesma análise por bairro e por acidentes fatais e não fatais](#6-faça-a-mesma-análise-por-bairro-e-por-acidentes-fatais-e-não-fatais)\n",
    "  - [7. Plotar Mapa de Belo Horizonte por Tipo de Acidente](#7-plotar-mapa-de-belo-horizonte-por-tipo-de-acidente)\n",
    "  - [8. Plotar Intervalo de Confiança via Bootstrap do Número de Acidentes por Mês](#8-plotar-intervalo-de-confiança-via-bootstrap-do-número-de-acidentes-por-mês)\n",
    "  - [9. Vamos brincar de regressão](#9-vamos-brincar-de-regressão)\n",
    "  - [10. Use o Número de Acidentes por bairro de 2019 para Prever 2022](#10-use-o-número-de-acidentes-por-bairro-de-2019-para-prever-2022)\n",
    "  - [11. Fazer Análises Adicionais de Interesse](#11-fazer-análises-adicionais-de-interesse)\n"
   ]
  },
  {
   "cell_type": "markdown",
   "id": "f35f9680",
   "metadata": {},
   "source": [
    "## Preparando os dados\n",
    "\n",
    "### Base de Dados\n",
    "\n",
    "A base de dados a ser analisada consiste em registros de acidentes de trânsito na cidade de Belo Horizonte. A base é separada em vários arquivos csv que podem ser lidos diretamente com babypandas. Para isso, use o código abaixo:"
   ]
  },
  {
   "cell_type": "code",
   "execution_count": null,
   "id": "5c79e1b4-0ffd-447e-bade-6f1c5907d5a5",
   "metadata": {},
   "outputs": [],
   "source": [
    "import babypandas as bpd\n",
    "import pandas as pd\n",
    "import glob\n",
    "import matplotlib.pyplot as plt\n",
    "import numpy as np\n",
    "\n",
    "df = bpd.DataFrame()\n",
    "for f in glob.glob('dados/*.csv'):\n",
    "    aux = bpd.read_csv(f, sep=';')\n",
    "    df = df.append(aux)"
   ]
  },
  {
   "cell_type": "markdown",
   "id": "95b30e55",
   "metadata": {},
   "source": [
    "### Colando um índice de datas\n",
    "\n",
    "Infelizmente, o BabyPandas não lida muito bem com datas. Por isso, vamos tratar as datas usando pandas. A função pd.to_datetime converte texto em datas, funcionando bem no nosso caso."
   ]
  },
  {
   "cell_type": "code",
   "execution_count": null,
   "id": "c079f8b4-fe4b-44cd-b9b7-597892bbaaf9",
   "metadata": {},
   "outputs": [],
   "source": [
    "data_correta = pd.to_datetime(\n",
    "    df.get('data hora_boletim').values\n",
    ")"
   ]
  },
  {
   "cell_type": "markdown",
   "id": "24f268b1",
   "metadata": {},
   "source": [
    "Agora basta colocar a data na coluna correta"
   ]
  },
  {
   "cell_type": "code",
   "execution_count": null,
   "id": "96e71c07-aabd-4f82-a076-0a8d39225ff0",
   "metadata": {},
   "outputs": [],
   "source": [
    "df = df.assign(\n",
    "    data_boletim = data_correta\n",
    ")"
   ]
  },
  {
   "cell_type": "markdown",
   "id": "d2acd986",
   "metadata": {},
   "source": [
    "### Removendo as colunas que não precisamos\n",
    "\n",
    "Por fim, vamos remover todas as colunas desnecessárias e configurar um índice."
   ]
  },
  {
   "cell_type": "code",
   "execution_count": null,
   "id": "0844ca54-9c5b-4f2d-a8c4-16854d788648",
   "metadata": {},
   "outputs": [],
   "source": [
    "df = df.drop(\n",
    "    columns=['data hora_boletim',\n",
    "             'data_inclusao',\n",
    "             'valor_ups',\n",
    "             'valor_ups_antiga',\n",
    "             'data_alteracao_smsa',\n",
    "             'descricao_ups_antiga']\n",
    ").sort_values(by='data_boletim').set_index('data_boletim')\n",
    "df"
   ]
  },
  {
   "cell_type": "markdown",
   "id": "18ad6932",
   "metadata": {},
   "source": [
    "### 2. Faça um gráfico de linhas por ano mês indicando o número de acidentes naquele ano mês."
   ]
  },
  {
   "cell_type": "code",
   "execution_count": null,
   "id": "7074322d-4ff6-41fe-b2c2-e6d440e76ee0",
   "metadata": {},
   "outputs": [],
   "source": [
    "grouped_by_month = df.groupby(['ano', 'mes']).size()\n",
    "grouped_by_month.plot(kind='line')\n",
    "plt.ylabel('Número de Acidentes')"
   ]
  },
  {
   "cell_type": "markdown",
   "id": "69a78993",
   "metadata": {},
   "source": [
    "### 3. Repita o gráfico acima por ano apenas."
   ]
  },
  {
   "cell_type": "code",
   "execution_count": null,
   "id": "52527c25-031e-4bae-9f98-6c0b5431b998",
   "metadata": {},
   "outputs": [],
   "source": [
    "grouped_by_year = df.groupby('ano').size()\n",
    "grouped_by_year.plot(kind='line')\n",
    "plt.ylabel('Número de Acidentes')"
   ]
  },
  {
   "cell_type": "markdown",
   "id": "633b17a0",
   "metadata": {},
   "source": [
    "### 4. Faça um gráfico de barras por ano indicandos os tipos de acidentes mais comuns no ano."
   ]
  },
  {
   "cell_type": "code",
   "execution_count": null,
   "id": "99f57323-02e0-440b-b81e-28b7d6a2d3d3",
   "metadata": {},
   "outputs": [],
   "source": [
    "import random\n",
    "import random\n",
    "\n",
    "years = df.get('ano').unique().tolist()\n",
    "\n",
    "colors = ['#D354F8', '#595B8E', '#31A8A6', '#F54C50', '#14C50C', '#14B1A6', '#183EAA']\n",
    "\n",
    "for i in range(len(colors)):\n",
    "    while i > 0 and colors[i] == colors[i-1]:\n",
    "        colors[i] = '#' + ''.join(random.choices('0123456789ABCDEF', k=6))\n",
    "\n",
    "spacing = 1\n",
    "bar_width = 0.1\n",
    "num_accident_kinds = df.groupby('tipo_acidente').size()\n",
    "\n",
    "plt.figure(figsize=(12, 8))\n",
    "for i, year in enumerate(years):\n",
    "    accidents_per_year = df[df.get('ano') == year].groupby('tipo_acidente').size()\n",
    "    ax = accidents_per_year.plot(kind='bar', color=colors[i], position=i * (bar_width + spacing), width=bar_width, label=year, edgecolor='black')\n",
    "\n",
    "plt.title('Tipo de Acidente mais comum por Ano')\n",
    "plt.xlabel('Tipo de Acidente')\n",
    "plt.ylabel('Número de Acidentes')\n",
    "plt.legend()\n",
    "\n",
    "plt.show()"
   ]
  },
  {
   "cell_type": "markdown",
   "id": "4ec0be95",
   "metadata": {},
   "source": [
    "### 5. Repita o gráfico acima considerando gráficos fatais e não fatais."
   ]
  },
  {
   "cell_type": "code",
   "execution_count": null,
   "id": "06bcbc00-9f27-43b0-9663-3c18147bb3f4",
   "metadata": {},
   "outputs": [],
   "source": [
    "fatals = df[df.get('indicador_fatalidade') == 'SIM'].groupby('tipo_acidente').size()\n",
    "non_fatals = df[df.get('indicador_fatalidade') == 'NÃO'].groupby('tipo_acidente').size()\n",
    "\n",
    "ax = fatals.plot(kind='bar', color='red', position=0, width=0.4, label='Fatais')\n",
    "non_fatals.plot(kind='bar', color='blue', position=1, width=0.4, ax=ax, label='Não Fatais')\n",
    "\n",
    "plt.title('Acidentes de Trânsito por Tipo e Gravidade')\n",
    "plt.xlabel('Tipo de Acidente')\n",
    "plt.ylabel('Número de Acidentes')\n",
    "plt.legend()\n",
    "\n",
    "plt.show()"
   ]
  },
  {
   "cell_type": "markdown",
   "id": "57e47335",
   "metadata": {},
   "source": [
    "### 6. Faça a mesma análise por bairro e por acidentes fatais e não fatais"
   ]
  },
  {
   "cell_type": "code",
   "execution_count": null,
   "id": "e4581b09-2e73-42d9-ba0e-3897a128ee56",
   "metadata": {},
   "outputs": [],
   "source": [
    "neighborhood_data = df.groupby('bairro').size()\n",
    "neighborhood_data\n",
    "neighborhood_records = {}\n",
    "for neighborhood in neighborhood_data.index:\n",
    "    records = df[df.get('bairro') == neighborhood]\n",
    "    neighborhood_records[neighborhood] = records\n",
    "neighborhood_records_fatals = {neighborhood: neighborhood_records[neighborhood][neighborhood_records[neighborhood].get('indicador_fatalidade') == 'SIM'] for neighborhood in neighborhood_records}\n",
    "neighborhood_records_non_fatals = {neighborhood: neighborhood_records[neighborhood][neighborhood_records[neighborhood].get('indicador_fatalidade') == 'NÃO'] for neighborhood in neighborhood_records}"
   ]
  },
  {
   "cell_type": "code",
   "execution_count": null,
   "id": "373ec837",
   "metadata": {},
   "outputs": [],
   "source": [
    "neighborhood_data.plot(kind=\"bar\", stacked=True)\n",
    "plt.title('Accidents by Neighborhood')\n",
    "plt.xlabel('Neighborhood')\n",
    "plt.ylabel('Number of Accidents')\n",
    "plt.legend(title='Tipo de Acidente')\n",
    "plt.show()"
   ]
  },
  {
   "cell_type": "markdown",
   "id": "34766988",
   "metadata": {},
   "source": [
    "### 7. Plotar Mapa de Belo Horizonte por Tipo de Acidente:\n",
    "\n",
    "- Faça um gráfico de dispersão das latitudes e longitudes. O mesmo deve parecer com o mapa de BH.  \n",
    "Para entender bem os tipos de acidentes, faça gráficos por tipos diferentes de acidentes."
   ]
  },
  {
   "cell_type": "code",
   "execution_count": null,
   "id": "ebfefb3b",
   "metadata": {},
   "outputs": [],
   "source": [
    "df.plot(\n",
    "  kind='hexbin',\n",
    "  x='lat',\n",
    "  y='lon',\n",
    "  mincnt=1,\n",
    "  gridsize=75,\n",
    "  bins='log'\n",
    " )\n",
    "plt.title('Mapa de Belo Horizonte')\n"
   ]
  },
  {
   "cell_type": "markdown",
   "id": "f384dbe6",
   "metadata": {},
   "source": [
    "Os tipos de acidentes são :"
   ]
  },
  {
   "cell_type": "code",
   "execution_count": null,
   "id": "a94c0740",
   "metadata": {},
   "outputs": [],
   "source": [
    "df.get(\"desc_tipo_acidente\").unique()"
   ]
  },
  {
   "cell_type": "markdown",
   "id": "417e49f5",
   "metadata": {},
   "source": [
    "Acidentes de queda de pessoa por veículo por latitude e longitude :"
   ]
  },
  {
   "cell_type": "code",
   "execution_count": null,
   "id": "d7857abb",
   "metadata": {},
   "outputs": [],
   "source": [
    "grouped_by_QUEDA_DE_PESSOA_DE_VEICULO = df[(df.get('desc_tipo_acidente') == 'QUEDA DE PESSOA DE VEICULO                        ')]\n",
    "grouped_by_QUEDA_DE_PESSOA_DE_VEICULO.plot(\n",
    "  kind='hexbin',\n",
    "  x='lat',\n",
    "  y='lon',\n",
    "  mincnt=1,\n",
    "  gridsize=75,\n",
    "  bins='log'\n",
    " )\n",
    "plt.title('Acidentes de queda de pessoa por veículo por latitude e longitude')\n"
   ]
  },
  {
   "cell_type": "markdown",
   "id": "dd2a0f8c",
   "metadata": {},
   "source": [
    "Acidentes de atropelamento de pessoa sem vítima fatal por latitude e longitude :"
   ]
  },
  {
   "cell_type": "code",
   "execution_count": null,
   "id": "faba6275",
   "metadata": {},
   "outputs": [],
   "source": [
    "grouped_by_ATROPELAMENTO_DE_PESSOA_SEM_VITIMA_FATAL = df[(df.get('desc_tipo_acidente') == 'ATROPELAMENTO DE PESSOA SEM VITIMA FATAL          ')]\n",
    "grouped_by_ATROPELAMENTO_DE_PESSOA_SEM_VITIMA_FATAL.plot(\n",
    "  kind='hexbin',\n",
    "  x='lat',\n",
    "  y='lon',\n",
    "  mincnt=1,\n",
    "  gridsize=75,\n",
    "  bins='log'\n",
    " )\n",
    "plt.title('Acidentes de atropelamento de pessoa sem vítima fatal por latitude e longitude')\n"
   ]
  },
  {
   "cell_type": "markdown",
   "id": "a3c606ae",
   "metadata": {},
   "source": [
    "Acidentes de abalroamento com vítima por latitude e longitude :"
   ]
  },
  {
   "cell_type": "code",
   "execution_count": null,
   "id": "a5a8d8d0",
   "metadata": {},
   "outputs": [],
   "source": [
    "grouped_by_ABALROAMENTO_COM_VITIMA = df[(df.get('desc_tipo_acidente') == 'ABALROAMENTO COM VITIMA                           ')]\n",
    "grouped_by_ABALROAMENTO_COM_VITIMA.plot(\n",
    "  kind='hexbin',\n",
    "  x='lat',\n",
    "  y='lon',\n",
    "  mincnt=1,\n",
    "  gridsize=75,\n",
    "  bins='log'\n",
    " )\n",
    "plt.title('Acidentes de abalroamento com vítima por latitude e longitude')"
   ]
  },
  {
   "cell_type": "markdown",
   "id": "70fd31a6",
   "metadata": {},
   "source": [
    "Acidentes de colisão de veículos com vítima por latitude e longitude :"
   ]
  },
  {
   "cell_type": "code",
   "execution_count": null,
   "id": "108a696a",
   "metadata": {},
   "outputs": [],
   "source": [
    "grouped_by_COLISAO_DE_VEICULOS_COM_VITIMA= df[(df.get('desc_tipo_acidente') == 'COLISAO DE VEICULOS COM VITIMA                    ')]\n",
    "grouped_by_COLISAO_DE_VEICULOS_COM_VITIMA.plot(\n",
    "  kind='hexbin',\n",
    "  x='lat',\n",
    "  y='lon',\n",
    "  mincnt=1,\n",
    "  gridsize=75,\n",
    "  bins='log'\n",
    " )\n",
    "plt.title('Acidentes de colisão de veículos com vítima por latitude e longitude')"
   ]
  },
  {
   "cell_type": "markdown",
   "id": "7fa946b6",
   "metadata": {},
   "source": [
    "Acidentes de choque mecânico com vítima por latitude e longitude :"
   ]
  },
  {
   "cell_type": "code",
   "execution_count": null,
   "id": "c63b582a",
   "metadata": {},
   "outputs": [],
   "source": [
    "grouped_by_CHOQUE_MECANICO_COM_VITIMA= df[(df.get('desc_tipo_acidente') == 'CHOQUE MECANICO COM VITIMA                        ')]\n",
    "grouped_by_CHOQUE_MECANICO_COM_VITIMA.plot(\n",
    "  kind='hexbin',\n",
    "  x='lat',\n",
    "  y='lon',\n",
    "  mincnt=1,\n",
    "  gridsize=75,\n",
    "  bins='log'\n",
    " )\n",
    "plt.title('Acidentes de choque mecânico com vítima por latitude e longitude')"
   ]
  },
  {
   "cell_type": "markdown",
   "id": "47d1d048",
   "metadata": {},
   "source": [
    "Acidentes de capotamento ou tombamento com vítima por latitude e longitude :"
   ]
  },
  {
   "cell_type": "code",
   "execution_count": null,
   "id": "d577e009",
   "metadata": {},
   "outputs": [],
   "source": [
    "grouped_by_CAPOTAMENTO_ou_TOMBAMENTO_COM_VITIMA= df[(df.get('desc_tipo_acidente') == 'CAPOTAMENTO/TOMBAMENTO COM VITIMA                 ')]\n",
    "grouped_by_CAPOTAMENTO_ou_TOMBAMENTO_COM_VITIMA.plot(\n",
    "  kind='hexbin',\n",
    "  x='lat',\n",
    "  y='lon',\n",
    "  mincnt=1,\n",
    "  gridsize=75,\n",
    "  bins='log'\n",
    " )\n",
    "plt.title('Acidentes de capotamento ou tombamento com vítima por latitude e longitude')"
   ]
  },
  {
   "cell_type": "markdown",
   "id": "85d50b30",
   "metadata": {},
   "source": [
    "Acidentes de outros com vítima por latitude e longitude :"
   ]
  },
  {
   "cell_type": "code",
   "execution_count": null,
   "id": "4dbb5427",
   "metadata": {},
   "outputs": [],
   "source": [
    "grouped_by_OUTROS_COM_VITIMA= df[(df.get('desc_tipo_acidente') == 'OUTROS COM VITIMA                                 ')]\n",
    "grouped_by_OUTROS_COM_VITIMA.plot(\n",
    "  kind='hexbin',\n",
    "  x='lat',\n",
    "  y='lon',\n",
    "  mincnt=1,\n",
    "  gridsize=75,\n",
    "  bins='log'\n",
    " )\n",
    "plt.title('Acidentes de outros com vítima por latitude e longitude')"
   ]
  },
  {
   "cell_type": "markdown",
   "id": "9b4bad4d",
   "metadata": {},
   "source": [
    "Acidentes de queda e ou vazamento de carga de veículo com vítima por latitude e longitude :"
   ]
  },
  {
   "cell_type": "code",
   "execution_count": null,
   "id": "018ae462",
   "metadata": {},
   "outputs": [],
   "source": [
    "grouped_by_QUEDA_E_OU_VAZAMENTO_DE_CARGA_DE_VEICULO_COM_VITIMA= df[(df.get('desc_tipo_acidente') == 'QUEDA E/OU VAZAMENTO DE CARGA DE VEICULO C/ VITIMA')]\n",
    "grouped_by_QUEDA_E_OU_VAZAMENTO_DE_CARGA_DE_VEICULO_COM_VITIMA.plot(\n",
    "  kind='hexbin',\n",
    "  x='lat',\n",
    "  y='lon',\n",
    "  mincnt=1,\n",
    "  gridsize=75,\n",
    "  bins='log'\n",
    " )\n",
    "plt.title('Acidentes de queda e ou vazamento de carga de veículo com vítima por latitude e longitude')"
   ]
  },
  {
   "cell_type": "markdown",
   "id": "a4d5ea93",
   "metadata": {},
   "source": [
    "Acidentes de atropelamento de pessoa com vítima fatal por latitude e longitude :"
   ]
  },
  {
   "cell_type": "code",
   "execution_count": null,
   "id": "fd59ba76",
   "metadata": {},
   "outputs": [],
   "source": [
    "grouped_by_ATROPELAMENTO_DE_PESSOA_COM_VITIMA_FATAL= df[(df.get('desc_tipo_acidente') == 'ATROPELAMENTO DE PESSOA COM VITIMA FATAL          ')]\n",
    "grouped_by_ATROPELAMENTO_DE_PESSOA_COM_VITIMA_FATAL.plot(\n",
    "  kind='hexbin',\n",
    "  x='lat',\n",
    "  y='lon',\n",
    "  mincnt=1,\n",
    "  gridsize=75,\n",
    "  bins='log'\n",
    " )\n",
    "plt.title('Acidentes de atropelamento de pessoa com vítima fatal por latitude e longitude')"
   ]
  },
  {
   "cell_type": "markdown",
   "id": "cbc32840",
   "metadata": {},
   "source": [
    "Acidentes de queda de veículo com vítima por latitude e longitude :"
   ]
  },
  {
   "cell_type": "code",
   "execution_count": null,
   "id": "dd25512a",
   "metadata": {},
   "outputs": [],
   "source": [
    "grouped_by_QUEDA_DE_VEICULO_COM_VITIMA= df[(df.get('desc_tipo_acidente') == 'QUEDA DE VEICULO COM VITIMA                       ')]\n",
    "grouped_by_QUEDA_DE_VEICULO_COM_VITIMA.plot(\n",
    "  kind='hexbin',\n",
    "  x='lat',\n",
    "  y='lon',\n",
    "  mincnt=1,\n",
    "  gridsize=75,\n",
    "  bins='log'\n",
    " )\n",
    "plt.title('Acidentes de queda de veículo com vítima por latitude e longitude')"
   ]
  },
  {
   "cell_type": "markdown",
   "id": "8aa6022a",
   "metadata": {},
   "source": [
    "Acidentes de atropelamento de animal com vítima por latitude e longitude : "
   ]
  },
  {
   "cell_type": "code",
   "execution_count": null,
   "id": "9a52eaab",
   "metadata": {},
   "outputs": [],
   "source": [
    "grouped_by_ATROPELAMENTO_DE_ANIMAL_COM_VITIMA= df[(df.get('desc_tipo_acidente') == 'ATROPELAMENTO DE ANIMAL COM VITIMA                ')]\n",
    "grouped_by_ATROPELAMENTO_DE_ANIMAL_COM_VITIMA.plot(\n",
    "  kind='hexbin',\n",
    "  x='lat',\n",
    "  y='lon',\n",
    "  mincnt=1,\n",
    "  gridsize=75,\n",
    "  bins='log'\n",
    " )\n",
    "plt.title('Acidentes de atropelamento de animal com vítima por latitude e longitude')"
   ]
  },
  {
   "cell_type": "markdown",
   "id": "cb19093b",
   "metadata": {},
   "source": [
    "Acidentes de capotamento ou tombamento sem vítima por latitude e longitude :"
   ]
  },
  {
   "cell_type": "code",
   "execution_count": null,
   "id": "36abb2b6",
   "metadata": {},
   "outputs": [],
   "source": [
    "grouped_by_CAPOTAMENTO_ou_TOMBAMENTO_SEM_VITIMA= df[(df.get('desc_tipo_acidente') == 'CAPOTAMENTO/TOMBAMENTO SEM VITIMA                 ')]\n",
    "grouped_by_CAPOTAMENTO_ou_TOMBAMENTO_SEM_VITIMA.plot(\n",
    "  kind='hexbin',\n",
    "  x='lat',\n",
    "  y='lon',\n",
    "  mincnt=1,\n",
    "  gridsize=75,\n",
    "  bins='log'\n",
    " )\n",
    "plt.title('Acidentes de capotamento ou tombamento sem vítima por latitude e longitude')"
   ]
  },
  {
   "cell_type": "markdown",
   "id": "d56c0834",
   "metadata": {},
   "source": [
    "### 8. Plotar Intervalo de Confiança via Bootstrap do Número de Acidentes por Mês: \n",
    "\n",
    "- Utilize a técnica de bootstrap para calcular intervalos de confiança para o número de acidentes em cada mês. Plote esses intervalos juntamente com a média mensal dos acidentes para visualizar a variabilidade e a confiança das estimativas. "
   ]
  },
  {
   "cell_type": "code",
   "execution_count": null,
   "id": "755e13b3",
   "metadata": {},
   "outputs": [],
   "source": []
  },
  {
   "cell_type": "markdown",
   "id": "ab4bba53",
   "metadata": {},
   "source": [
    "### 9. Vamos brincar de regressão. \n",
    "\n",
    "- Inicialmente, faça um gráfico de dispersão onde o eixo X é o número de acidentes em 2019, 2020 ou 2021. \n",
    "- Serão três gráficos. \n",
    "- Cada ponto no gráfico vai corresponder a um bairro."
   ]
  },
  {
   "cell_type": "markdown",
   "id": "23429086",
   "metadata": {},
   "source": [
    "Criando todos os mergs :"
   ]
  },
  {
   "cell_type": "code",
   "execution_count": null,
   "id": "660e94aa",
   "metadata": {},
   "outputs": [],
   "source": [
    "cont = df.groupby(['bairro', 'ano']).size().reset_index()\n",
    "dados_2019 = cont[cont.get('ano') == 2019]\n",
    "dados_2020 = cont[cont.get('ano') == 2020]\n",
    "dados_2021 = cont[cont.get('ano') == 2021]\n",
    "merge_by_acidentes_2019_e_2020 = dados_2019.merge(\n",
    "  dados_2020,\n",
    "  on='bairro')\n",
    "merge_by_acidentes_2019_e_2021 = dados_2019.merge(\n",
    "  dados_2021,\n",
    "  on='bairro')\n",
    "merge_by_acidentes_2020_e_2021 = dados_2020.merge(\n",
    "  dados_2021,\n",
    "  on='bairro')"
   ]
  },
  {
   "cell_type": "code",
   "execution_count": null,
   "id": "78169323",
   "metadata": {},
   "outputs": [],
   "source": [
    "merge_by_acidentes_2019_e_2020"
   ]
  },
  {
   "cell_type": "code",
   "execution_count": null,
   "id": "4f1085f7",
   "metadata": {},
   "outputs": [],
   "source": [
    "merge_by_acidentes_2019_e_2021"
   ]
  },
  {
   "cell_type": "code",
   "execution_count": null,
   "id": "1caeaee5",
   "metadata": {},
   "outputs": [],
   "source": [
    "merge_by_acidentes_2020_e_2021"
   ]
  },
  {
   "cell_type": "code",
   "execution_count": null,
   "id": "35fba1a5",
   "metadata": {},
   "outputs": [],
   "source": [
    "merge_by_acidentes_2019_e_2020.plot(kind = \"scatter\", x = \"0_x\", y = \"0_y\" )\n",
    "plt.xlabel('Número de acidentes por bairro em 2019')\n",
    "plt.ylabel('Número de acidentes por bairro em 2020')"
   ]
  },
  {
   "cell_type": "code",
   "execution_count": null,
   "id": "05899868",
   "metadata": {},
   "outputs": [],
   "source": [
    "merge_by_acidentes_2019_e_2021.plot(kind = \"scatter\", x = \"0_x\", y = \"0_y\" )\n",
    "plt.xlabel('Número de acidentes por bairro em 2019')\n",
    "plt.ylabel('Número de acidentes por bairro em 2021')"
   ]
  },
  {
   "cell_type": "code",
   "execution_count": null,
   "id": "84cd5aba",
   "metadata": {},
   "outputs": [],
   "source": [
    "merge_by_acidentes_2020_e_2021.plot(kind = \"scatter\", x = \"0_x\", y = \"0_y\" )\n",
    "plt.xlabel('Número de acidentes por bairro em 2020')\n",
    "plt.ylabel('Número de acidentes por bairro em 2021')"
   ]
  },
  {
   "cell_type": "markdown",
   "id": "8903ecc5",
   "metadata": {},
   "source": [
    "### 10. Use o Número de Acidentes por bairro de 2019 para Prever 2022:\n",
    "\n",
    "- Também use os de 2020\n",
    "- Por fim use os de 2022\n",
    "- Aplique métodos de previsão (como modelos de regressão) para estimar o número de acidentes em 2023, utilizando os dados passados\n",
    "- Avalie os erros do modelo e discuta as limitações\n",
    "- Compare os três modelos. A pandemia teve algum impacto, qual?"
   ]
  },
  {
   "cell_type": "markdown",
   "id": "6a1dfb9b",
   "metadata": {},
   "source": [
    "Primeiramente, vamos definir uma função que expressa  X ou  Y (colunas de um DataFrame) em unidades padronizadas :"
   ]
  },
  {
   "cell_type": "code",
   "execution_count": null,
   "id": "90fc73d6",
   "metadata": {},
   "outputs": [],
   "source": [
    "def standard_units(col):\n",
    "    return (col - col.mean()) / np.std(col)"
   ]
  },
  {
   "cell_type": "markdown",
   "id": "2b66a025",
   "metadata": {},
   "source": [
    "Agora uma função que calcula a correlação  R a partir das unidades padronizadas:"
   ]
  },
  {
   "cell_type": "code",
   "execution_count": null,
   "id": "2ce2bdf4",
   "metadata": {},
   "outputs": [],
   "source": [
    "def calculate_r(df, x, y):\n",
    "    '''Returns the average value of the product of x and y, \n",
    "       when both are measured in standard units.'''\n",
    "    x_su = standard_units(df.get(x))\n",
    "    y_su = standard_units(df.get(y))\n",
    "    return (x_su * y_su).mean()"
   ]
  },
  {
   "cell_type": "markdown",
   "id": "ef439c6f",
   "metadata": {},
   "source": [
    "Criando o merge para prever o número de acidentes por bairro de 2022 usando 2019 :  "
   ]
  },
  {
   "cell_type": "code",
   "execution_count": null,
   "id": "bede2daf",
   "metadata": {},
   "outputs": [],
   "source": [
    "dados_2022 = cont[cont.get('ano') == 2022]\n",
    "merge_by_acidentes_2019_e_2022 = dados_2019.merge(\n",
    "  dados_2022,\n",
    "  on='bairro')\n",
    "merge_by_acidentes_2019_e_2022"
   ]
  },
  {
   "cell_type": "markdown",
   "id": "052c2f4c",
   "metadata": {},
   "source": [
    "Funções para calcular o a e o b no caso geral :"
   ]
  },
  {
   "cell_type": "code",
   "execution_count": null,
   "id": "a29fc856",
   "metadata": {},
   "outputs": [],
   "source": [
    "def slope(df, x, y):\n",
    "    \"Returns the slope of the regression line between columns x and y in df (in original units).\"\n",
    "    r = calculate_r(df, x, y)\n",
    "    return r * np.std(df.get(y)) / np.std(df.get(x))\n",
    "\n",
    "def intercept(df, x, y):\n",
    "    \"Returns the intercept of the regression line between columns x and y in df (in original units).\"\n",
    "    return df.get(y).mean() - slope(df, x, y) * df.get(x).mean()"
   ]
  },
  {
   "cell_type": "code",
   "execution_count": null,
   "id": "16bde3fb",
   "metadata": {},
   "outputs": [],
   "source": [
    "slope_2019_2022 = slope(merge_by_acidentes_2019_e_2022, \"0_x\", \"0_y\")\n",
    "intercept_2019_2022 = intercept(merge_by_acidentes_2019_e_2022, \"0_x\", \"0_y\")"
   ]
  },
  {
   "cell_type": "code",
   "execution_count": null,
   "id": "fcdc00f6",
   "metadata": {},
   "outputs": [],
   "source": [
    "predict_2022_usando_2019 = merge_by_acidentes_2019_e_2022.assign(num_2022_previsto = slope_2019_2022 * merge_by_acidentes_2019_e_2022.get(\"0_y\") + intercept_2019_2022)\n",
    "predict_2022_usando_2019"
   ]
  },
  {
   "cell_type": "code",
   "execution_count": null,
   "id": "4926c09f",
   "metadata": {},
   "outputs": [],
   "source": [
    "\n",
    "comparacao_previsto_real_2022_usando_2019 = predict_2022_usando_2019.assign(residual= (predict_2022_usando_2019.get(\"0_y\") - predict_2022_usando_2019.get(\"num_2022_previsto\")))\n",
    "comparacao_previsto_real_2022_usando_2019"
   ]
  },
  {
   "cell_type": "markdown",
   "id": "dad363ea",
   "metadata": {},
   "source": [
    "Agora, usando 2020:"
   ]
  },
  {
   "cell_type": "code",
   "execution_count": null,
   "id": "2ff1ac1f",
   "metadata": {},
   "outputs": [],
   "source": [
    "merge_by_acidentes_2020_e_2022 = dados_2020.merge(\n",
    "  dados_2022,\n",
    "  on='bairro')\n",
    "merge_by_acidentes_2020_e_2022"
   ]
  },
  {
   "cell_type": "code",
   "execution_count": null,
   "id": "61d886c0",
   "metadata": {},
   "outputs": [],
   "source": [
    "slope_2020_2022 = slope(merge_by_acidentes_2020_e_2022, \"0_x\", \"0_y\")\n",
    "intercept_2020_2022 = intercept(merge_by_acidentes_2020_e_2022, \"0_x\", \"0_y\")"
   ]
  },
  {
   "cell_type": "code",
   "execution_count": null,
   "id": "f20148b1",
   "metadata": {},
   "outputs": [],
   "source": [
    "predict_2022_usando_2020 = merge_by_acidentes_2020_e_2022.assign(num_2022_previsto = slope_2020_2022 * merge_by_acidentes_2020_e_2022.get(\"0_y\") + intercept_2020_2022)\n",
    "predict_2022_usando_2020"
   ]
  },
  {
   "cell_type": "code",
   "execution_count": null,
   "id": "615ccd19",
   "metadata": {},
   "outputs": [],
   "source": [
    "comparacao_previsto_real_2022_usando_2020 = predict_2022_usando_2020.assign(residual= (predict_2022_usando_2020.get(\"0_y\") - predict_2022_usando_2020.get(\"num_2022_previsto\")))\n",
    "comparacao_previsto_real_2022_usando_2020"
   ]
  },
  {
   "cell_type": "markdown",
   "id": "f1ec25e3",
   "metadata": {},
   "source": [
    "Comparando o erro de previsão dos dois modelos :"
   ]
  },
  {
   "cell_type": "code",
   "execution_count": null,
   "id": "8d864bd6",
   "metadata": {},
   "outputs": [],
   "source": [
    "residual_total_usando_2019 = ((comparacao_previsto_real_2022_usando_2019.get(\"residual\") ** 2).sum()) / 291\n",
    "residual_total_usando_2019"
   ]
  },
  {
   "cell_type": "code",
   "execution_count": null,
   "id": "2d8112b7",
   "metadata": {},
   "outputs": [],
   "source": [
    "residual_total_usando_2020 = ((comparacao_previsto_real_2022_usando_2020.get(\"residual\") ** 2).sum()) / 291\n",
    "residual_total_usando_2020"
   ]
  },
  {
   "cell_type": "markdown",
   "id": "e6ed258d",
   "metadata": {},
   "source": [
    "Assim, concluimos que usar o número de acidentes por bairro de 2019 para prever os 2022 é melhor do que usar os número de acidentes por bairro de 2020."
   ]
  },
  {
   "cell_type": "markdown",
   "id": "8e6f93d8",
   "metadata": {},
   "source": [
    "Agora vamos prever os números de acidentes por bairro de 2023 :"
   ]
  },
  {
   "cell_type": "code",
   "execution_count": null,
   "id": "2593ccf7",
   "metadata": {},
   "outputs": [],
   "source": []
  },
  {
   "cell_type": "markdown",
   "id": "34d91563",
   "metadata": {},
   "source": [
    "### 11. Fazer Análises Adicionais de Interesse:\n",
    "\n",
    "- Realize análises adicionais que sejam de seu interesse ou relevância para o projeto. Isso pode incluir a correlação entre diferentes variáveis, a análise de hotspots de acidentes, ou a investigação de fatores contribuintes para a gravidade dos acidentes."
   ]
  },
  {
   "cell_type": "markdown",
   "id": "327e855e",
   "metadata": {},
   "source": [
    "Vamos analisar os hotspost de acidentes por região :"
   ]
  },
  {
   "cell_type": "code",
   "execution_count": null,
   "id": "c49508f1",
   "metadata": {},
   "outputs": [],
   "source": [
    "grouped_by_regiao = df.groupby(\"desc_regional\").size().sort_values(ascending = False)\n",
    "grouped_by_regiao"
   ]
  },
  {
   "cell_type": "markdown",
   "id": "2a1ab187",
   "metadata": {},
   "source": [
    "Assim concluimos que a região Centro-Sul é a regiao com mais acidentes.\n",
    "- Agora vamos analisar qual é a região com mais acidentes por quilômetro quadrado,\n",
    "fazendo uma rápida pesquisa as áreas são : Centro-Sul = 31,53 Pampulha = 47,13 Noroeste = 38,16 Oeste = 33,39 Nordeste = 39,59 Venda Nova = 27,80 Barreiro = 53,51 Leste = 28,52 Norte = 33,21"
   ]
  },
  {
   "cell_type": "code",
   "execution_count": null,
   "id": "969c9c16",
   "metadata": {},
   "outputs": [],
   "source": [
    "acidentes__por_km_centro_sul = 409,1\n",
    "acidentes__por_km_pampulha = 216,1\n",
    "acidentes__por_km_noroeste = 236,2\n",
    "acidentes__por_km_oeste  = 262,4\n",
    "acidentes__por_km_nordeste = 195,4\n",
    "acidentes__por_km_venda_nova = 236,7\n",
    "acidentes__por_km_barreiro = 121,0\n",
    "acidentes__por_km_leste = 218,0\n",
    "acidentes__por_km_norte = 166,6"
   ]
  },
  {
   "cell_type": "markdown",
   "id": "c9d93bf3",
   "metadata": {},
   "source": [
    "A região Centro-Sul continua sendo a região com mais acidentes por quilômetro quadrado.\n"
   ]
  },
  {
   "cell_type": "markdown",
   "id": "210f1452",
   "metadata": {},
   "source": [
    "Agora vamos fazer a mesma analise por bairro:"
   ]
  },
  {
   "cell_type": "code",
   "execution_count": null,
   "id": "ec9797e7",
   "metadata": {},
   "outputs": [],
   "source": [
    "grouped_by_bairro = df.groupby(\"bairro\").size().sort_values(ascending = False)\n",
    "grouped_by_bairro"
   ]
  },
  {
   "cell_type": "markdown",
   "id": "e8982216",
   "metadata": {},
   "source": [
    "Observamos uma grande concentração de acidentes nos bairros, Jardim Montanhês e Centro, caracterizando os moairoes hotspots de acidentes em Belo Horizonte."
   ]
  },
  {
   "cell_type": "markdown",
   "id": "0a63c8a0",
   "metadata": {},
   "source": [
    "Vamos analisar agora os acidentes fatais : "
   ]
  },
  {
   "cell_type": "code",
   "execution_count": null,
   "id": "a00f3388",
   "metadata": {},
   "outputs": [],
   "source": [
    "acidentes_fatais = df[df.get(\"indicador_fatalidade\") == \"SIM\"]\n",
    "acidentes_fatais"
   ]
  },
  {
   "cell_type": "code",
   "execution_count": null,
   "id": "17c88674",
   "metadata": {},
   "outputs": [],
   "source": [
    "acidentes_fatais.groupby(\"desc_tempo\").size()"
   ]
  },
  {
   "cell_type": "code",
   "execution_count": null,
   "id": "9c21540d",
   "metadata": {},
   "outputs": [],
   "source": [
    "acidentes_fatais_com_tempo_ruim = 66 + 3 + 15\n",
    "poropocao = acidentes_fatais_com_tempo_ruim / (669 - 140)\n",
    "poropocao"
   ]
  },
  {
   "cell_type": "markdown",
   "id": "e78acf0a",
   "metadata": {},
   "source": [
    "Considerando apenas os acidentes com o tempo informado, a proporção de acientes fatais com um tempo ruim(chuva ou neblina ou nublado) é de aproximadamente 16%, uma quantidade bem significativa, mostrando a influência do clima nos acidentes de trânsito."
   ]
  },
  {
   "cell_type": "markdown",
   "id": "6d6fafc4",
   "metadata": {},
   "source": []
  }
 ],
 "metadata": {
  "kernelspec": {
   "display_name": "Python 3 (ipykernel)",
   "language": "python",
   "name": "python3"
  },
  "language_info": {
   "codemirror_mode": {
    "name": "ipython",
    "version": 3
   },
   "file_extension": ".py",
   "mimetype": "text/x-python",
   "name": "python",
   "nbconvert_exporter": "python",
   "pygments_lexer": "ipython3",
   "version": "3.12.5"
  }
 },
 "nbformat": 4,
 "nbformat_minor": 5
}
